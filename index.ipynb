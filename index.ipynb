{
 "cells": [
  {
   "cell_type": "markdown",
   "metadata": {},
   "source": [
    "# Filtering and Ordering - Lab\n"
   ]
  },
  {
   "cell_type": "markdown",
   "metadata": {},
   "source": [
    "## Introduction\n",
    "In this lab, you will write more `SELECT` statements to solidify your ability to query a SQL database. You will also write more specific queries using the tools you learned in the previous lesson."
   ]
  },
  {
   "cell_type": "markdown",
   "metadata": {},
   "source": [
    "## Objectives\n",
    "You will be able to:\n",
    "* Write SQL queries to filter and order results\n",
    "* Order the results of your queries by using `ORDER BY` (`ASC` & `DESC`)\n",
    "* Limit the number of records returned by a query using `LIMIT`\n",
    "* Filter results using `BETWEEN` and `IS NULL`"
   ]
  },
  {
   "cell_type": "markdown",
   "metadata": {},
   "source": [
    "### Famous Dogs"
   ]
  },
  {
   "cell_type": "markdown",
   "metadata": {},
   "source": [
    "Here's a database full of famous dogs!  The `dogs` table is populated with the following data:\n",
    "\n",
    "|name      |age    |gender |breed           |temperament|hungry |\n",
    "|----------|-------|-------|----------------|-----------|-------|\n",
    "|Snoopy    |3      |M      |beagle          |friendly   |1      |\n",
    "|McGruff   |10     |M      |bloodhound      |aware      |0      |\n",
    "|Scooby    |6      |M      |great dane      |hungry     |1      |\n",
    "|Little Ann|5      |F      |coonhound       |loyal      |0      |\n",
    "|Pickles   |13     |F      |black lab       |mischievous|1      |\n",
    "|Clifford  |4      |M      |big red         |smiley     |1      |\n",
    "|Lassie    |7      |F      |collie          |loving     |1      |\n",
    "|Snowy     |8      |F      |fox terrier     |adventurous|0      |\n",
    "|NULL      |4      |M      |golden retriever|playful    |1      |"
   ]
  },
  {
   "cell_type": "markdown",
   "metadata": {},
   "source": [
    "## Connecting to the Database\n",
    "\n",
    "First, import sqlite3 and establish a connection to the database **dogs.db**. Then, create a cursor object so that you can pass SQL queries to the database."
   ]
  },
  {
   "cell_type": "code",
   "execution_count": 3,
   "metadata": {},
   "outputs": [
    {
     "data": {
      "text/html": [
       "<div>\n",
       "<style scoped>\n",
       "    .dataframe tbody tr th:only-of-type {\n",
       "        vertical-align: middle;\n",
       "    }\n",
       "\n",
       "    .dataframe tbody tr th {\n",
       "        vertical-align: top;\n",
       "    }\n",
       "\n",
       "    .dataframe thead th {\n",
       "        text-align: right;\n",
       "    }\n",
       "</style>\n",
       "<table border=\"1\" class=\"dataframe\">\n",
       "  <thead>\n",
       "    <tr style=\"text-align: right;\">\n",
       "      <th></th>\n",
       "      <th>id</th>\n",
       "      <th>name</th>\n",
       "      <th>age</th>\n",
       "      <th>gender</th>\n",
       "      <th>breed</th>\n",
       "      <th>temperament</th>\n",
       "      <th>hungry</th>\n",
       "    </tr>\n",
       "  </thead>\n",
       "  <tbody>\n",
       "    <tr>\n",
       "      <th>0</th>\n",
       "      <td>1</td>\n",
       "      <td>Snoopy</td>\n",
       "      <td>3</td>\n",
       "      <td>M</td>\n",
       "      <td>beagle</td>\n",
       "      <td>friendly</td>\n",
       "      <td>1</td>\n",
       "    </tr>\n",
       "    <tr>\n",
       "      <th>1</th>\n",
       "      <td>2</td>\n",
       "      <td>McGruff</td>\n",
       "      <td>10</td>\n",
       "      <td>M</td>\n",
       "      <td>bloodhound</td>\n",
       "      <td>aware</td>\n",
       "      <td>0</td>\n",
       "    </tr>\n",
       "    <tr>\n",
       "      <th>2</th>\n",
       "      <td>3</td>\n",
       "      <td>Scooby</td>\n",
       "      <td>6</td>\n",
       "      <td>M</td>\n",
       "      <td>great dane</td>\n",
       "      <td>hungry</td>\n",
       "      <td>1</td>\n",
       "    </tr>\n",
       "    <tr>\n",
       "      <th>3</th>\n",
       "      <td>4</td>\n",
       "      <td>Little Ann</td>\n",
       "      <td>5</td>\n",
       "      <td>F</td>\n",
       "      <td>coonhound</td>\n",
       "      <td>loyal</td>\n",
       "      <td>0</td>\n",
       "    </tr>\n",
       "    <tr>\n",
       "      <th>4</th>\n",
       "      <td>5</td>\n",
       "      <td>Pickles</td>\n",
       "      <td>13</td>\n",
       "      <td>F</td>\n",
       "      <td>black lab</td>\n",
       "      <td>mischievous</td>\n",
       "      <td>1</td>\n",
       "    </tr>\n",
       "    <tr>\n",
       "      <th>5</th>\n",
       "      <td>6</td>\n",
       "      <td>Clifford</td>\n",
       "      <td>4</td>\n",
       "      <td>M</td>\n",
       "      <td>big red</td>\n",
       "      <td>smiley</td>\n",
       "      <td>1</td>\n",
       "    </tr>\n",
       "    <tr>\n",
       "      <th>6</th>\n",
       "      <td>7</td>\n",
       "      <td>Lassie</td>\n",
       "      <td>7</td>\n",
       "      <td>F</td>\n",
       "      <td>collie</td>\n",
       "      <td>loving</td>\n",
       "      <td>1</td>\n",
       "    </tr>\n",
       "    <tr>\n",
       "      <th>7</th>\n",
       "      <td>8</td>\n",
       "      <td>Snowy</td>\n",
       "      <td>8</td>\n",
       "      <td>F</td>\n",
       "      <td>fox terrier</td>\n",
       "      <td>adventurous</td>\n",
       "      <td>0</td>\n",
       "    </tr>\n",
       "    <tr>\n",
       "      <th>8</th>\n",
       "      <td>9</td>\n",
       "      <td>None</td>\n",
       "      <td>4</td>\n",
       "      <td>M</td>\n",
       "      <td>golden retriever</td>\n",
       "      <td>playful</td>\n",
       "      <td>1</td>\n",
       "    </tr>\n",
       "  </tbody>\n",
       "</table>\n",
       "</div>"
      ],
      "text/plain": [
       "   id        name  age gender             breed  temperament  hungry\n",
       "0   1      Snoopy    3      M            beagle     friendly       1\n",
       "1   2     McGruff   10      M        bloodhound        aware       0\n",
       "2   3      Scooby    6      M        great dane       hungry       1\n",
       "3   4  Little Ann    5      F         coonhound        loyal       0\n",
       "4   5     Pickles   13      F         black lab  mischievous       1\n",
       "5   6    Clifford    4      M           big red       smiley       1\n",
       "6   7      Lassie    7      F            collie       loving       1\n",
       "7   8       Snowy    8      F       fox terrier  adventurous       0\n",
       "8   9        None    4      M  golden retriever      playful       1"
      ]
     },
     "execution_count": 3,
     "metadata": {},
     "output_type": "execute_result"
    }
   ],
   "source": [
    "#Your code here; import sqlite, create a connection and then a cursor object.\n",
    "import sqlite3 \n",
    "import pandas as pd\n",
    "conn = sqlite3.connect('dogs.db')\n",
    "cur = conn.cursor()\n",
    "cur.execute(\"\"\"SELECT * FROM dogs;\"\"\")\n",
    "df = pd.DataFrame(cur.fetchall())\n",
    "df.columns = [x[0] for x in cur.description]\n",
    "df.head(10)"
   ]
  },
  {
   "cell_type": "markdown",
   "metadata": {},
   "source": [
    " "
   ]
  },
  {
   "cell_type": "markdown",
   "metadata": {},
   "source": [
    "## Queries\n",
    "\n",
    "Display the outputs for each of the following query descriptions."
   ]
  },
  {
   "cell_type": "markdown",
   "metadata": {},
   "source": [
    "### Select the name and breed for all female dogs"
   ]
  },
  {
   "cell_type": "code",
   "execution_count": 8,
   "metadata": {},
   "outputs": [
    {
     "data": {
      "text/plain": [
       "[('Little Ann', 'coonhound'),\n",
       " ('Pickles', 'black lab'),\n",
       " ('Lassie', 'collie'),\n",
       " ('Snowy', 'fox terrier')]"
      ]
     },
     "execution_count": 8,
     "metadata": {},
     "output_type": "execute_result"
    }
   ],
   "source": [
    "#Your code here\n",
    "cur.execute('''SELECT name, breed FROM dogs WHERE (gender = 'F');''').fetchall()"
   ]
  },
  {
   "cell_type": "markdown",
   "metadata": {},
   "source": [
    "### Select the names of all dogs listed in alphabetical order.  Notice that SQL lists the nameless dog first."
   ]
  },
  {
   "cell_type": "code",
   "execution_count": 12,
   "metadata": {},
   "outputs": [
    {
     "data": {
      "text/html": [
       "<div>\n",
       "<style scoped>\n",
       "    .dataframe tbody tr th:only-of-type {\n",
       "        vertical-align: middle;\n",
       "    }\n",
       "\n",
       "    .dataframe tbody tr th {\n",
       "        vertical-align: top;\n",
       "    }\n",
       "\n",
       "    .dataframe thead th {\n",
       "        text-align: right;\n",
       "    }\n",
       "</style>\n",
       "<table border=\"1\" class=\"dataframe\">\n",
       "  <thead>\n",
       "    <tr style=\"text-align: right;\">\n",
       "      <th></th>\n",
       "      <th>name</th>\n",
       "    </tr>\n",
       "  </thead>\n",
       "  <tbody>\n",
       "    <tr>\n",
       "      <th>0</th>\n",
       "      <td>None</td>\n",
       "    </tr>\n",
       "    <tr>\n",
       "      <th>1</th>\n",
       "      <td>Clifford</td>\n",
       "    </tr>\n",
       "    <tr>\n",
       "      <th>2</th>\n",
       "      <td>Lassie</td>\n",
       "    </tr>\n",
       "    <tr>\n",
       "      <th>3</th>\n",
       "      <td>Little Ann</td>\n",
       "    </tr>\n",
       "    <tr>\n",
       "      <th>4</th>\n",
       "      <td>McGruff</td>\n",
       "    </tr>\n",
       "    <tr>\n",
       "      <th>5</th>\n",
       "      <td>Pickles</td>\n",
       "    </tr>\n",
       "    <tr>\n",
       "      <th>6</th>\n",
       "      <td>Scooby</td>\n",
       "    </tr>\n",
       "    <tr>\n",
       "      <th>7</th>\n",
       "      <td>Snoopy</td>\n",
       "    </tr>\n",
       "    <tr>\n",
       "      <th>8</th>\n",
       "      <td>Snowy</td>\n",
       "    </tr>\n",
       "  </tbody>\n",
       "</table>\n",
       "</div>"
      ],
      "text/plain": [
       "         name\n",
       "0        None\n",
       "1    Clifford\n",
       "2      Lassie\n",
       "3  Little Ann\n",
       "4     McGruff\n",
       "5     Pickles\n",
       "6      Scooby\n",
       "7      Snoopy\n",
       "8       Snowy"
      ]
     },
     "execution_count": 12,
     "metadata": {},
     "output_type": "execute_result"
    }
   ],
   "source": [
    "#Your code here\n",
    "cur.execute(\"\"\"SELECT name\n",
    "               FROM dogs\n",
    "               ORDER BY name\n",
    "               ;\"\"\")\n",
    "df = pd.DataFrame(cur.fetchall())\n",
    "df.columns = [x[0] for x in cur.description]\n",
    "df"
   ]
  },
  {
   "cell_type": "markdown",
   "metadata": {},
   "source": [
    "### Select any dog that doesn't have a name"
   ]
  },
  {
   "cell_type": "code",
   "execution_count": 16,
   "metadata": {},
   "outputs": [
    {
     "data": {
      "text/plain": [
       "[(9, None, 4, 'M', 'golden retriever', 'playful', 1)]"
      ]
     },
     "execution_count": 16,
     "metadata": {},
     "output_type": "execute_result"
    }
   ],
   "source": [
    "#Your code here\n",
    "cur.execute('''SELECT * FROM dogs WHERE name IS null;''').fetchall()"
   ]
  },
  {
   "cell_type": "markdown",
   "metadata": {},
   "source": [
    "### Select the name and breed of only the hungry dogs and list them from youngest to oldest"
   ]
  },
  {
   "cell_type": "code",
   "execution_count": 21,
   "metadata": {},
   "outputs": [
    {
     "data": {
      "text/html": [
       "<div>\n",
       "<style scoped>\n",
       "    .dataframe tbody tr th:only-of-type {\n",
       "        vertical-align: middle;\n",
       "    }\n",
       "\n",
       "    .dataframe tbody tr th {\n",
       "        vertical-align: top;\n",
       "    }\n",
       "\n",
       "    .dataframe thead th {\n",
       "        text-align: right;\n",
       "    }\n",
       "</style>\n",
       "<table border=\"1\" class=\"dataframe\">\n",
       "  <thead>\n",
       "    <tr style=\"text-align: right;\">\n",
       "      <th></th>\n",
       "      <th>name</th>\n",
       "      <th>breed</th>\n",
       "      <th>hungry</th>\n",
       "      <th>age</th>\n",
       "    </tr>\n",
       "  </thead>\n",
       "  <tbody>\n",
       "    <tr>\n",
       "      <th>0</th>\n",
       "      <td>Snoopy</td>\n",
       "      <td>beagle</td>\n",
       "      <td>1</td>\n",
       "      <td>3</td>\n",
       "    </tr>\n",
       "    <tr>\n",
       "      <th>1</th>\n",
       "      <td>Clifford</td>\n",
       "      <td>big red</td>\n",
       "      <td>1</td>\n",
       "      <td>4</td>\n",
       "    </tr>\n",
       "    <tr>\n",
       "      <th>2</th>\n",
       "      <td>None</td>\n",
       "      <td>golden retriever</td>\n",
       "      <td>1</td>\n",
       "      <td>4</td>\n",
       "    </tr>\n",
       "    <tr>\n",
       "      <th>3</th>\n",
       "      <td>Scooby</td>\n",
       "      <td>great dane</td>\n",
       "      <td>1</td>\n",
       "      <td>6</td>\n",
       "    </tr>\n",
       "    <tr>\n",
       "      <th>4</th>\n",
       "      <td>Lassie</td>\n",
       "      <td>collie</td>\n",
       "      <td>1</td>\n",
       "      <td>7</td>\n",
       "    </tr>\n",
       "    <tr>\n",
       "      <th>5</th>\n",
       "      <td>Pickles</td>\n",
       "      <td>black lab</td>\n",
       "      <td>1</td>\n",
       "      <td>13</td>\n",
       "    </tr>\n",
       "  </tbody>\n",
       "</table>\n",
       "</div>"
      ],
      "text/plain": [
       "       name             breed  hungry  age\n",
       "0    Snoopy            beagle       1    3\n",
       "1  Clifford           big red       1    4\n",
       "2      None  golden retriever       1    4\n",
       "3    Scooby        great dane       1    6\n",
       "4    Lassie            collie       1    7\n",
       "5   Pickles         black lab       1   13"
      ]
     },
     "execution_count": 21,
     "metadata": {},
     "output_type": "execute_result"
    }
   ],
   "source": [
    "#Your code here\n",
    "cur.execute(\"\"\"SELECT name, breed, hungry, age\n",
    "               FROM dogs\n",
    "               WHERE (hungry = 1)\n",
    "               ORDER BY age\n",
    "               ;\"\"\")\n",
    "df = pd.DataFrame(cur.fetchall())\n",
    "df.columns = [x[0] for x in cur.description]\n",
    "df"
   ]
  },
  {
   "cell_type": "markdown",
   "metadata": {},
   "source": [
    "### Select the oldest dog's name, age, and temperament"
   ]
  },
  {
   "cell_type": "code",
   "execution_count": 28,
   "metadata": {},
   "outputs": [
    {
     "data": {
      "text/plain": [
       "[('Pickles', 13, 'mischievous')]"
      ]
     },
     "execution_count": 28,
     "metadata": {},
     "output_type": "execute_result"
    }
   ],
   "source": [
    "#Your code here\n",
    "cur.execute('''SELECT name, age, temperament FROM dogs ORDER BY age DESC LIMIT 1;''').fetchall()\n"
   ]
  },
  {
   "cell_type": "markdown",
   "metadata": {},
   "source": [
    "### Select the three youngest dogs"
   ]
  },
  {
   "cell_type": "code",
   "execution_count": 31,
   "metadata": {},
   "outputs": [
    {
     "data": {
      "text/plain": [
       "[('Snoopy', 3), ('Clifford', 4), (None, 4)]"
      ]
     },
     "execution_count": 31,
     "metadata": {},
     "output_type": "execute_result"
    }
   ],
   "source": [
    "#Your code here\n",
    "cur.execute('''SELECT name, age FROM dogs ORDER BY age LIMIT 3;''').fetchall()\n"
   ]
  },
  {
   "cell_type": "markdown",
   "metadata": {},
   "source": [
    "### Select the name and breed of the dogs who are between five and ten years old, ordered from oldest to youngest"
   ]
  },
  {
   "cell_type": "code",
   "execution_count": 51,
   "metadata": {},
   "outputs": [
    {
     "data": {
      "text/html": [
       "<div>\n",
       "<style scoped>\n",
       "    .dataframe tbody tr th:only-of-type {\n",
       "        vertical-align: middle;\n",
       "    }\n",
       "\n",
       "    .dataframe tbody tr th {\n",
       "        vertical-align: top;\n",
       "    }\n",
       "\n",
       "    .dataframe thead th {\n",
       "        text-align: right;\n",
       "    }\n",
       "</style>\n",
       "<table border=\"1\" class=\"dataframe\">\n",
       "  <thead>\n",
       "    <tr style=\"text-align: right;\">\n",
       "      <th></th>\n",
       "      <th>name</th>\n",
       "      <th>breed</th>\n",
       "      <th>age</th>\n",
       "    </tr>\n",
       "  </thead>\n",
       "  <tbody>\n",
       "    <tr>\n",
       "      <th>0</th>\n",
       "      <td>Snowy</td>\n",
       "      <td>fox terrier</td>\n",
       "      <td>8</td>\n",
       "    </tr>\n",
       "    <tr>\n",
       "      <th>1</th>\n",
       "      <td>Lassie</td>\n",
       "      <td>collie</td>\n",
       "      <td>7</td>\n",
       "    </tr>\n",
       "    <tr>\n",
       "      <th>2</th>\n",
       "      <td>Scooby</td>\n",
       "      <td>great dane</td>\n",
       "      <td>6</td>\n",
       "    </tr>\n",
       "  </tbody>\n",
       "</table>\n",
       "</div>"
      ],
      "text/plain": [
       "     name        breed  age\n",
       "0   Snowy  fox terrier    8\n",
       "1  Lassie       collie    7\n",
       "2  Scooby   great dane    6"
      ]
     },
     "execution_count": 51,
     "metadata": {},
     "output_type": "execute_result"
    }
   ],
   "source": [
    "#Your code here\n",
    "cur.execute(\"\"\"SELECT name, breed, age\n",
    "               FROM dogs\n",
    "               WHERE (age > 5 AND age < 10)\n",
    "               ORDER BY age DESC\n",
    "               ;\"\"\")\n",
    "df = pd.DataFrame(cur.fetchall())\n",
    "df.columns = [x[0] for x in cur.description]\n",
    "df"
   ]
  },
  {
   "cell_type": "markdown",
   "metadata": {},
   "source": [
    "### Select the name, age, and hungry columns for hungry dogs between the ages of two and seven.  This query should also list these dogs in alphabetical order."
   ]
  },
  {
   "cell_type": "code",
   "execution_count": 65,
   "metadata": {},
   "outputs": [
    {
     "data": {
      "text/html": [
       "<div>\n",
       "<style scoped>\n",
       "    .dataframe tbody tr th:only-of-type {\n",
       "        vertical-align: middle;\n",
       "    }\n",
       "\n",
       "    .dataframe tbody tr th {\n",
       "        vertical-align: top;\n",
       "    }\n",
       "\n",
       "    .dataframe thead th {\n",
       "        text-align: right;\n",
       "    }\n",
       "</style>\n",
       "<table border=\"1\" class=\"dataframe\">\n",
       "  <thead>\n",
       "    <tr style=\"text-align: right;\">\n",
       "      <th></th>\n",
       "      <th>name</th>\n",
       "      <th>hungry</th>\n",
       "      <th>age</th>\n",
       "    </tr>\n",
       "  </thead>\n",
       "  <tbody>\n",
       "    <tr>\n",
       "      <th>0</th>\n",
       "      <td>None</td>\n",
       "      <td>1</td>\n",
       "      <td>4</td>\n",
       "    </tr>\n",
       "    <tr>\n",
       "      <th>1</th>\n",
       "      <td>Clifford</td>\n",
       "      <td>1</td>\n",
       "      <td>4</td>\n",
       "    </tr>\n",
       "    <tr>\n",
       "      <th>2</th>\n",
       "      <td>Scooby</td>\n",
       "      <td>1</td>\n",
       "      <td>6</td>\n",
       "    </tr>\n",
       "    <tr>\n",
       "      <th>3</th>\n",
       "      <td>Snoopy</td>\n",
       "      <td>1</td>\n",
       "      <td>3</td>\n",
       "    </tr>\n",
       "  </tbody>\n",
       "</table>\n",
       "</div>"
      ],
      "text/plain": [
       "       name  hungry  age\n",
       "0      None       1    4\n",
       "1  Clifford       1    4\n",
       "2    Scooby       1    6\n",
       "3    Snoopy       1    3"
      ]
     },
     "execution_count": 65,
     "metadata": {},
     "output_type": "execute_result"
    }
   ],
   "source": [
    "#Your code here\n",
    "cur.execute(\"\"\"SELECT name, hungry, age\n",
    "               FROM dogs\n",
    "               WHERE (age > 2 AND age < 7) AND (hungry = 1)\n",
    "               ORDER BY name\n",
    "               ;\"\"\")\n",
    "df = pd.DataFrame(cur.fetchall())\n",
    "df.columns = [x[0] for x in cur.description]\n",
    "df"
   ]
  },
  {
   "cell_type": "markdown",
   "metadata": {},
   "source": [
    "## Summary"
   ]
  },
  {
   "cell_type": "markdown",
   "metadata": {},
   "source": [
    "Great work! In this lab you practiced writing more complex SQL statements to not only query specific information but also define the quantity and order of your results. "
   ]
  }
 ],
 "metadata": {
  "kernelspec": {
   "display_name": "learn-env",
   "language": "python",
   "name": "learn-env"
  },
  "language_info": {
   "codemirror_mode": {
    "name": "ipython",
    "version": 3
   },
   "file_extension": ".py",
   "mimetype": "text/x-python",
   "name": "python",
   "nbconvert_exporter": "python",
   "pygments_lexer": "ipython3",
   "version": "3.6.6"
  },
  "toc": {
   "base_numbering": 1,
   "nav_menu": {},
   "number_sections": true,
   "sideBar": true,
   "skip_h1_title": false,
   "title_cell": "Table of Contents",
   "title_sidebar": "Contents",
   "toc_cell": false,
   "toc_position": {},
   "toc_section_display": true,
   "toc_window_display": false
  }
 },
 "nbformat": 4,
 "nbformat_minor": 2
}
